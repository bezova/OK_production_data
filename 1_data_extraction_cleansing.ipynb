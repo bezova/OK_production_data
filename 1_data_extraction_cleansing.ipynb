{
 "cells": [
  {
   "cell_type": "markdown",
   "metadata": {},
   "source": [
    "Production Curves from Oklahoma Dataset\n",
    "=======================================\n",
    "\n",
    "Part 1 - Extracting and Cleaning Data\n",
    "-----------------------------\n",
    "\n",
    "This notebook explores the Oklahoma historical production data set that can be downloaded from\n",
    "\n",
    "[ftp://ftp.occ.state.ok.us/OG_DATA/historical.ZIP](ftp://ftp.occ.state.ok.us/OG_DATA/historical.ZIP)\n",
    "\n",
    "This data is from [Oklahoma Corporation Commission Website](http://www.occeweb.com/og/ogdatafiles2.htm) (OCC).  This data set contains Oil & Gas production historical records and includes production records from 1987 to 2015. Note that the data for 1994 is missing. \n",
    "\n",
    "The collection consists of a separate ascii file for every year of production and contains many fields describing the well, ownership, lease numbers, etc.  This notebook will demonstrate how to extract the data from these raw files, and combine it into a single data set, and clean it so that it is ready for further exploration and analysis.\n",
    "\n",
    "The Raw Data\n",
    "--------\n",
    "Download and extract the `historical.ZIP` archive.  The resulting directory will contain the annual production data files.  The files contain tabular data, with each row containing the monthly production totals for a single well, for an entire year of production.  The data is delimited by a vertical bar `|`.  The files contain mostly the same data over the entire range of years, though there is a slight change in format after 2008.\n",
    "\n",
    "It will be more convenient to work with the data if it is all in one place.  The [pandas](http://pandas.pydata.org/) package provides an excellent set of tools for working with tabular data.  We can use `pandas` to read the data, and create a single `DataFrame` containing all of the data.\n"
   ]
  },
  {
   "cell_type": "code",
   "execution_count": 2,
   "metadata": {
    "collapsed": true
   },
   "outputs": [],
   "source": [
    "import pandas as pd\n",
    "import numpy as np\n",
    "\n",
    "from pandas import set_option\n",
    "set_option(\"display.max_rows\", 12)\n",
    "\n",
    "data_dir = '~/Desktop/DATA/Projects/OK_production_data/historical/'"
   ]
  },
  {
   "cell_type": "markdown",
   "metadata": {},
   "source": [
    "Because of the change in format, we will process the data files in two batches, with data from years 1987-2008 in one group and 2009-2015 in the other.  "
   ]
  },
  {
   "cell_type": "code",
   "execution_count": 4,
   "metadata": {
    "collapsed": false
   },
   "outputs": [],
   "source": [
    "years = np.arange(1988, 2009, 1)"
   ]
  },
  {
   "cell_type": "markdown",
   "metadata": {},
   "source": [
    "The data from 1994 is missing because of a database error, so we will omit that from the years we will process."
   ]
  },
  {
   "cell_type": "code",
   "execution_count": 5,
   "metadata": {
    "collapsed": true
   },
   "outputs": [],
   "source": [
    "years = np.delete(years, np.where(years==1994))"
   ]
  },
  {
   "cell_type": "code",
   "execution_count": null,
   "metadata": {
    "collapsed": true
   },
   "outputs": [],
   "source": []
  }
 ],
 "metadata": {
  "kernelspec": {
   "display_name": "Python 2",
   "language": "python",
   "name": "python2"
  },
  "language_info": {
   "codemirror_mode": {
    "name": "ipython",
    "version": 2
   },
   "file_extension": ".py",
   "mimetype": "text/x-python",
   "name": "python",
   "nbconvert_exporter": "python",
   "pygments_lexer": "ipython2",
   "version": "2.7.11"
  }
 },
 "nbformat": 4,
 "nbformat_minor": 0
}
